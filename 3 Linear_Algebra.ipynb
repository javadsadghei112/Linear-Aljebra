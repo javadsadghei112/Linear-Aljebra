{
  "cells": [
    {
      "cell_type": "code",
      "execution_count": null,
      "metadata": {
        "id": "lgcsu8LeVFVp"
      },
      "outputs": [],
      "source": [
        "import numpy as np\n",
        "import pandas as pd"
      ]
    },
    {
      "cell_type": "code",
      "execution_count": null,
      "metadata": {
        "colab": {
          "base_uri": "https://localhost:8080/"
        },
        "id": "rEzvNje0mB60",
        "outputId": "ec5b2f0f-72e1-4cc1-ba3d-cef6c226ef24"
      },
      "outputs": [
        {
          "name": "stdout",
          "output_type": "stream",
          "text": [
            "[[1]\n",
            " [2]\n",
            " [3]]\n"
          ]
        },
        {
          "data": {
            "text/plain": [
              "(3, 1)"
            ]
          },
          "execution_count": 5,
          "metadata": {},
          "output_type": "execute_result"
        }
      ],
      "source": [
        "x=np.array([[1],\n",
        "            [2],\n",
        "            [3]])\n",
        "print(x)\n",
        "x.shape\n"
      ]
    },
    {
      "cell_type": "markdown",
      "metadata": {
        "id": "OprjzV7Pm0JJ"
      },
      "source": [
        "Vertor-vector addition"
      ]
    },
    {
      "cell_type": "code",
      "execution_count": null,
      "metadata": {
        "colab": {
          "base_uri": "https://localhost:8080/"
        },
        "id": "5Q6tRs_qnCk-",
        "outputId": "78769966-b2c3-41a1-9e6e-8aa07cfbb577"
      },
      "outputs": [
        {
          "data": {
            "text/plain": [
              "array([[5],\n",
              "       [7],\n",
              "       [9]])"
            ]
          },
          "execution_count": 12,
          "metadata": {},
          "output_type": "execute_result"
        }
      ],
      "source": [
        "y=np.array([[4],[5],[6]])\n",
        "z=x+y\n",
        "#or \n",
        "q=np.add(x,y)\n",
        "q\n",
        "\n"
      ]
    },
    {
      "cell_type": "markdown",
      "metadata": {
        "id": "rXkUQA_poGcS"
      },
      "source": [
        "Vector-scaler multiplication"
      ]
    },
    {
      "cell_type": "code",
      "execution_count": null,
      "metadata": {
        "colab": {
          "base_uri": "https://localhost:8080/"
        },
        "id": "aM6uR8owoMC5",
        "outputId": "4b4f7069-131a-42d2-8f37-168fc8b10a82"
      },
      "outputs": [
        {
          "data": {
            "text/plain": [
              "array([[2],\n",
              "       [4],\n",
              "       [6]])"
            ]
          },
          "execution_count": 13,
          "metadata": {},
          "output_type": "execute_result"
        }
      ],
      "source": [
        "alpha=2\n",
        "r=alpha*x\n",
        "r"
      ]
    },
    {
      "cell_type": "markdown",
      "metadata": {
        "id": "psT7oGP6oXOY"
      },
      "source": [
        "Linear combination"
      ]
    },
    {
      "cell_type": "code",
      "execution_count": null,
      "metadata": {
        "colab": {
          "base_uri": "https://localhost:8080/"
        },
        "id": "lj2_Nz-YoiqA",
        "outputId": "29779884-1227-44fb-f514-35b3d1f74d4d"
      },
      "outputs": [
        {
          "data": {
            "text/plain": [
              "array([[11],\n",
              "       [16]])"
            ]
          },
          "execution_count": 2,
          "metadata": {},
          "output_type": "execute_result"
        }
      ],
      "source": [
        "a, b=2,3\n",
        "x, y=np.array([[1],[2]]), np.array([[3],[4]])\n",
        "r=a*x+b*y\n",
        "r"
      ]
    },
    {
      "cell_type": "markdown",
      "metadata": {
        "id": "vYZlHk2gpE46"
      },
      "source": [
        "Vector-vector multiplication"
      ]
    },
    {
      "cell_type": "code",
      "execution_count": null,
      "metadata": {
        "colab": {
          "base_uri": "https://localhost:8080/"
        },
        "id": "7kQd3U6wpIvV",
        "outputId": "6944bd9a-1955-4c4f-a0cb-6a13946b67e6"
      },
      "outputs": [
        {
          "data": {
            "text/plain": [
              "array([[11]])"
            ]
          },
          "execution_count": 17,
          "metadata": {},
          "output_type": "execute_result"
        }
      ],
      "source": [
        "x.T@y\n",
        "#or\n",
        "np.dot(x.T, y)\n"
      ]
    },
    {
      "cell_type": "markdown",
      "metadata": {
        "id": "cBbAHEUaVnVi"
      },
      "source": [
        "Vector space: \\\n",
        "a vector space is the set of proper vectors and all possible linear combinatios of the vector set. In addition, vector addition and multiplication must follow these eight rules:\n",
        "\n",
        "commutativity: x + y = y + x\\\n",
        "associativity: x + (y + x) = (y + x) + z\\\n",
        "unique zero vector such that: $x + 0 = x$ $\\forall$ $x$\\\n",
        "$\\forall$ $x$ there is a unique vector $x$ such that $x + -x = 0$\\\n",
        "identity element of scalar multiplication: $1x = x$\\\n",
        "distributivity of scalar multiplication w.r.t vector addition: $x(y + z) = xz + zy$\\\n",
        "$x(yz) = (xy)z$\\\n",
        "$(y + z)x = yx + zx$\n",
        "\n"
      ]
    },
    {
      "cell_type": "markdown",
      "metadata": {
        "id": "IOUMirTdbi1B"
      },
      "source": [
        "Vector norms:\\\n",
        "Measuring vectors is another important operation in machine learning applications. Intuitively, we can think about the norm or the length of a vector as the distance between its “origin” and its “end”.\n",
        "\n",
        "Norms “map” vectors to non-negative values. In this sense are functions that assign length $\\lVert \\bf{x} \\rVert \\in \\mathbb{R^n}$ to a vector $\\bf{x}$. To be valid, a norm has to satisfy these properties (keep in mind these properties are a bit abstruse to understand):\n",
        "\n",
        "Absolutely homogeneous: $\\forall \\alpha \\in \\mathbb{R}, \\lVert \\alpha \\bf{x} \\rVert = \\vert \\alpha \\Vert \\lVert \\bf{x} \\rVert$. In words: for all real-valued scalars, the norm scales proportionally with the value of the scalar.\\\n",
        "Triangle inequality: $\\lVert \\bf{x} + \\bf{y} \\rVert \\le \\lVert \\bf{x} \\rVert + \\lVert \\bf{y} \\rVert $. In words: in geometric terms, for any triangle the sum of any two sides must be greater or equal to the lenght of the third side. This is easy to see experimentally: grab a piece of rope, form triangles of different sizes, measure all the sides, and test this property.\\\n",
        "Positive definite: $\\lVert \\bf{x} \\rVert \\ge 0$ and $ \\lVert \\bf{x} \\rVert = 0 \\Longleftrightarrow \\bf{x}= 0$. In words: the length of any $\\bf{x}$ has to be a positive value (i.e., a vector can’t have negative length), and a length of $0$ occurs only of $\\bf{x}=0$\n",
        "Grasping the meaning of these three properties may be difficult at this point, but they probably become clearer as you improve your understanding of linear algebra.\n"
      ]
    },
    {
      "cell_type": "markdown",
      "metadata": {
        "id": "TCN37rswcVK6"
      },
      "source": [
        "Euclidean norm:\\\n",
        "The Euclidean norm is one of the most popular norms in machine learning. It is so widely used that sometimes is refered simply as “the norm” of a vector. "
      ]
    },
    {
      "cell_type": "code",
      "execution_count": null,
      "metadata": {
        "colab": {
          "base_uri": "https://localhost:8080/"
        },
        "id": "Z47M9uAhuB-Z",
        "outputId": "f05d8b1f-618a-4e54-a2c5-757053bf1e07"
      },
      "outputs": [
        {
          "data": {
            "text/plain": [
              "5.0"
            ]
          },
          "execution_count": 18,
          "metadata": {},
          "output_type": "execute_result"
        }
      ],
      "source": [
        "x=np.array(([3],[4]))\n",
        "np.linalg.norm(x,2)\n"
      ]
    },
    {
      "cell_type": "markdown",
      "metadata": {
        "id": "7Pc-_5W3dlkN"
      },
      "source": [
        "Manhattan norm:\\\n",
        " the distance between any two points is measured by moving in vertical and horizontals lines (instead of diagonals as in the Euclidean norm)."
      ]
    },
    {
      "cell_type": "code",
      "execution_count": null,
      "metadata": {
        "colab": {
          "base_uri": "https://localhost:8080/"
        },
        "id": "80isCMlzuy9u",
        "outputId": "5e4d841c-7e92-4010-944d-53264326a699"
      },
      "outputs": [
        {
          "data": {
            "text/plain": [
              "7.0"
            ]
          },
          "execution_count": 19,
          "metadata": {},
          "output_type": "execute_result"
        }
      ],
      "source": [
        "np.linalg.norm(x,1)"
      ]
    },
    {
      "cell_type": "markdown",
      "metadata": {
        "id": "IUM5AbEAdvAi"
      },
      "source": [
        "Max norm:\\\n",
        "The max norm or infinity norm is simply the absolute value of the largest element in the vector."
      ]
    },
    {
      "cell_type": "code",
      "execution_count": null,
      "metadata": {
        "colab": {
          "base_uri": "https://localhost:8080/"
        },
        "id": "z57NCVxwvHjL",
        "outputId": "b8fa46b8-ffce-44d4-b220-4695f764a880"
      },
      "outputs": [
        {
          "data": {
            "text/plain": [
              "4.0"
            ]
          },
          "execution_count": 21,
          "metadata": {},
          "output_type": "execute_result"
        }
      ],
      "source": [
        "np.linalg.norm(x,np.inf)"
      ]
    },
    {
      "cell_type": "markdown",
      "metadata": {
        "id": "TnLLcjUad8A4"
      },
      "source": [
        "Two vector distance"
      ]
    },
    {
      "cell_type": "code",
      "execution_count": null,
      "metadata": {
        "colab": {
          "base_uri": "https://localhost:8080/"
        },
        "id": "pz4QDomrvrm3",
        "outputId": "38d774e0-62f7-4dcd-d9ad-b3fe0ebc0073"
      },
      "outputs": [
        {
          "name": "stdout",
          "output_type": "stream",
          "text": [
            "distance x and y is 0.0\n"
          ]
        }
      ],
      "source": [
        "#distance of vector x and vector y\n",
        "dist=np.linalg.norm(x-y,2)\n",
        "print(\"distance x and y is\", dist)"
      ]
    },
    {
      "cell_type": "code",
      "execution_count": null,
      "metadata": {
        "colab": {
          "base_uri": "https://localhost:8080/"
        },
        "id": "3dgaUYIIIr_I",
        "outputId": "141ead5e-8589-4fd5-811d-67f6ac1c0db6"
      },
      "outputs": [
        {
          "name": "stdout",
          "output_type": "stream",
          "text": [
            "[[0.988]]\n"
          ]
        }
      ],
      "source": [
        "x , y= np.array([[1],[2]]), np.array([[5],[7]])\n",
        "cos_theta=(x.T@ y)/(np.linalg.norm(x,2)*np.linalg.norm(y,2))\n",
        "print(np.round(cos_theta,3))"
      ]
    },
    {
      "cell_type": "code",
      "execution_count": null,
      "metadata": {
        "colab": {
          "base_uri": "https://localhost:8080/"
        },
        "id": "FBufLIp0rFTR",
        "outputId": "76eacca1-9d49-4a64-8cde-da24252d7cf6"
      },
      "outputs": [
        {
          "name": "stdout",
          "output_type": "stream",
          "text": [
            "[[0.15660188]]\n"
          ]
        }
      ],
      "source": [
        "cos_inv=np.arccos(cos_theta)\n",
        "print(cos_inv) #radian"
      ]
    },
    {
      "cell_type": "code",
      "execution_count": null,
      "metadata": {
        "colab": {
          "base_uri": "https://localhost:8080/"
        },
        "id": "N_giKye9rTph",
        "outputId": "ca101eba-a1ca-4d09-ffd1-98a6569109b5"
      },
      "outputs": [
        {
          "name": "stdout",
          "output_type": "stream",
          "text": [
            "[[8.97262661]]\n"
          ]
        }
      ],
      "source": [
        "degree=cos_inv*((180)/np.pi)\n",
        "print(degree)"
      ]
    },
    {
      "cell_type": "code",
      "execution_count": null,
      "metadata": {
        "id": "WE1EKh0zkSa_"
      },
      "outputs": [],
      "source": [
        "x=np.array ([[2],[0]])\n",
        "y=np.array([[0],[2]])\n",
        "#cos(theat)?  &  theat?"
      ]
    },
    {
      "cell_type": "code",
      "execution_count": null,
      "metadata": {
        "id": "nj-Nazmfu3RU"
      },
      "outputs": [],
      "source": [
        "import numpy as np\n",
        "import pandas as pd\n",
        "import altair as alt"
      ]
    },
    {
      "cell_type": "code",
      "execution_count": null,
      "metadata": {
        "colab": {
          "base_uri": "https://localhost:8080/"
        },
        "id": "rnebSdywvML1",
        "outputId": "300ab48c-8a98-415a-a3e0-48a73ebfa72d"
      },
      "outputs": [
        {
          "data": {
            "text/plain": [
              "array([[0, 4],\n",
              "       [2, 8]])"
            ]
          },
          "execution_count": 13,
          "metadata": {},
          "output_type": "execute_result"
        }
      ],
      "source": [
        "A=np.array([[0,2],\n",
        "            [1,4]])\n",
        "\n",
        "B= np.array([[3,1],\n",
        "             [-3,2]])\n",
        "C= A+B\n",
        "#or \n",
        "C=np.add(A,B)\n",
        "\n",
        "Alpha=2\n",
        "Alpha*A\n",
        "#or\n",
        "np.multiply(Alpha,A)"
      ]
    },
    {
      "cell_type": "code",
      "execution_count": null,
      "metadata": {
        "colab": {
          "base_uri": "https://localhost:8080/"
        },
        "id": "GcY3GtzWlXui",
        "outputId": "20f24e05-2305-4b87-96f3-7e7adb4af395"
      },
      "outputs": [
        {
          "data": {
            "text/plain": [
              "array([[4],\n",
              "       [9]])"
            ]
          },
          "execution_count": 14,
          "metadata": {},
          "output_type": "execute_result"
        }
      ],
      "source": [
        "A@x\n",
        "#or\n",
        "np.dot(A,x)\n",
        "\n",
        "A@B\n",
        "#or\n",
        "np.dot(A,B)"
      ]
    }
  ],
  "metadata": {
    "colab": {
      "collapsed_sections": [],
      "name": "Linear Algebra.ipynb",
      "provenance": []
    },
    "kernelspec": {
      "display_name": "Python 3",
      "name": "python3"
    },
    "language_info": {
      "name": "python"
    }
  },
  "nbformat": 4,
  "nbformat_minor": 0
}
