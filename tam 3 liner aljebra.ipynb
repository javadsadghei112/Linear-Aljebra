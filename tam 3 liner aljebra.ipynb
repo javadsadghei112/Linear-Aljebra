{
 "cells": [
  {
   "cell_type": "code",
   "execution_count": 2,
   "metadata": {
    "collapsed": true
   },
   "outputs": [],
   "source": [
    "import numpy as np\n",
    "\n",
    "\n"
   ]
  },
  {
   "cell_type": "code",
   "execution_count": 3,
   "outputs": [],
   "source": [
    "vc_1 = np.array([12,4,15,33,3,19,13])\n",
    "vc_2 = np.array([14,4,18,37,3,18,15])\n",
    "vc_3 = np.array([12,4,20,32,3,15,13])\n",
    "vc_4 = np.array([8,5,11,14,3,23,17])\n",
    "vc_5 = np.array([3,9,9,25,3,19,10])"
   ],
   "metadata": {
    "collapsed": false,
    "pycharm": {
     "name": "#%%\n"
    }
   }
  },
  {
   "cell_type": "code",
   "execution_count": 8,
   "outputs": [
    {
     "ename": "NameError",
     "evalue": "name 'vc_1' is not defined",
     "output_type": "error",
     "traceback": [
      "\u001B[1;31m---------------------------------------------------------------------------\u001B[0m",
      "\u001B[1;31mNameError\u001B[0m                                 Traceback (most recent call last)",
      "Cell \u001B[1;32mIn[8], line 1\u001B[0m\n\u001B[1;32m----> 1\u001B[0m vc_norm_6 \u001B[38;5;241m=\u001B[39m np\u001B[38;5;241m.\u001B[39mlinalg\u001B[38;5;241m.\u001B[39mnorm(\u001B[43mvc_1\u001B[49m, \u001B[38;5;241m1\u001B[39m)\n\u001B[0;32m      2\u001B[0m vc_norm_7 \u001B[38;5;241m=\u001B[39m np\u001B[38;5;241m.\u001B[39mlinalg\u001B[38;5;241m.\u001B[39mnorm(vc_2, \u001B[38;5;241m1\u001B[39m)\n\u001B[0;32m      3\u001B[0m vc_norm_8 \u001B[38;5;241m=\u001B[39m np\u001B[38;5;241m.\u001B[39mlinalg\u001B[38;5;241m.\u001B[39mnorm(vc_3, \u001B[38;5;241m1\u001B[39m)\n",
      "\u001B[1;31mNameError\u001B[0m: name 'vc_1' is not defined"
     ]
    }
   ],
   "source": [
    "vc_norm_6 = np.linalg.norm(vc_1, 1)\n",
    "vc_norm_7 = np.linalg.norm(vc_2, 1)\n",
    "vc_norm_8 = np.linalg.norm(vc_3, 1)\n",
    "vc_norm_9 = np.linalg.norm(vc_4, 1)\n",
    "vc_norm_10 = np.linalg.norm(vc_5, 1)\n",
    "\n",
    "\n"
   ],
   "metadata": {
    "collapsed": false,
    "pycharm": {
     "name": "#%%\n"
    }
   }
  },
  {
   "cell_type": "code",
   "execution_count": null,
   "outputs": [],
   "source": [
    "print(np.round(cos_11,3))\n",
    "print(np.round(cos_12,3))\n",
    "print(np.round(cos_13,3))\n",
    "print(np.round(cos_14,3))\n",
    "print(np.round(cos_15,3))\n",
    "print(np.round(cos_16,3))\n",
    "print(np.round(cos_17,3))\n",
    "print(np.round(cos_18,3))\n",
    "print(np.round(cos_19,3))\n",
    "print(np.round(cos_20,3))\n"
   ],
   "metadata": {
    "collapsed": false,
    "pycharm": {
     "name": "#%%\n"
    }
   }
  },
  {
   "cell_type": "code",
   "execution_count": 9,
   "outputs": [
    {
     "ename": "NameError",
     "evalue": "name 'vc_1' is not defined",
     "output_type": "error",
     "traceback": [
      "\u001B[1;31m---------------------------------------------------------------------------\u001B[0m",
      "\u001B[1;31mNameError\u001B[0m                                 Traceback (most recent call last)",
      "Cell \u001B[1;32mIn[9], line 1\u001B[0m\n\u001B[1;32m----> 1\u001B[0m vc_norm_1 \u001B[38;5;241m=\u001B[39m np\u001B[38;5;241m.\u001B[39mlinalg\u001B[38;5;241m.\u001B[39mnorm(\u001B[43mvc_1\u001B[49m, \u001B[38;5;241m2\u001B[39m)\n\u001B[0;32m      2\u001B[0m vc_norm_2 \u001B[38;5;241m=\u001B[39m np\u001B[38;5;241m.\u001B[39mlinalg\u001B[38;5;241m.\u001B[39mnorm(vc_2, \u001B[38;5;241m2\u001B[39m)\n\u001B[0;32m      3\u001B[0m vc_norm_3 \u001B[38;5;241m=\u001B[39m np\u001B[38;5;241m.\u001B[39mlinalg\u001B[38;5;241m.\u001B[39mnorm(vc_3, \u001B[38;5;241m2\u001B[39m)\n",
      "\u001B[1;31mNameError\u001B[0m: name 'vc_1' is not defined"
     ]
    }
   ],
   "source": [
    "\n",
    "vc_norm_1 = np.linalg.norm(vc_1, 2)\n",
    "vc_norm_2 = np.linalg.norm(vc_2, 2)\n",
    "vc_norm_3 = np.linalg.norm(vc_3, 2)\n",
    "vc_norm_4 = np.linalg.norm(vc_4, 2)\n",
    "vc_norm_5 = np.linalg.norm(vc_5, 2)"
   ],
   "metadata": {
    "collapsed": false,
    "pycharm": {
     "name": "#%%\n"
    }
   }
  },
  {
   "cell_type": "code",
   "execution_count": null,
   "outputs": [],
   "source": [
    "cos_1 = ((vc_1 .T@ vc_2)/(vc_norm_1 * vc_norm_2))\n",
    "cos_2 = ((vc_1 .T@ vc_3)/(vc_norm_1 * vc_norm_3))\n",
    "cos_3 = ((vc_1 .T@ vc_4)/(vc_norm_1 * vc_norm_4))\n",
    "cos_4 = ((vc_1 .T@ vc_5)/(vc_norm_1 * vc_norm_5))\n",
    "cos_5 = ((vc_2 .T@ vc_3)/(vc_norm_2 * vc_norm_3))\n",
    "cos_6 = ((vc_2 .T@ vc_4)/(vc_norm_2 * vc_norm_4))\n",
    "cos_7 = ((vc_2 .T@ vc_5)/(vc_norm_2 * vc_norm_5))\n",
    "cos_8 = ((vc_3 .T@ vc_4)/(vc_norm_3 * vc_norm_4))\n",
    "cos_9 = ((vc_3 .T@ vc_5)/(vc_norm_3 * vc_norm_5))\n",
    "cos_10 = ((vc_4 .T@ vc_5)/(vc_norm_4 * vc_norm_5))\n"
   ],
   "metadata": {
    "collapsed": false,
    "pycharm": {
     "name": "#%%\n"
    }
   }
  },
  {
   "cell_type": "code",
   "execution_count": 7,
   "outputs": [],
   "source": [
    "print(np.round(cos_1,3))\n",
    "print(np.round(cos_2,3))\n",
    "print(np.round(cos_3,3))\n",
    "print(np.round(cos_4,3))\n",
    "print(np.round(cos_5,3))\n",
    "print(np.round(cos_6,3))\n",
    "print(np.round(cos_7,3))\n",
    "print(np.round(cos_8,3))\n",
    "print(np.round(cos_9,3))\n",
    "print(np.round(cos_10,3))"
   ],
   "metadata": {
    "collapsed": false,
    "pycharm": {
     "name": "#%%\n"
    }
   }
  },
  {
   "cell_type": "code",
   "execution_count": 10,
   "outputs": [
    {
     "ename": "NameError",
     "evalue": "name 'vc_1' is not defined",
     "output_type": "error",
     "traceback": [
      "\u001B[1;31m---------------------------------------------------------------------------\u001B[0m",
      "\u001B[1;31mNameError\u001B[0m                                 Traceback (most recent call last)",
      "Cell \u001B[1;32mIn[10], line 1\u001B[0m\n\u001B[1;32m----> 1\u001B[0m vc_norm_11 \u001B[38;5;241m=\u001B[39m np\u001B[38;5;241m.\u001B[39mlinalg\u001B[38;5;241m.\u001B[39mnorm(\u001B[43mvc_1\u001B[49m, np\u001B[38;5;241m.\u001B[39minf)\n\u001B[0;32m      2\u001B[0m vc_norm_12 \u001B[38;5;241m=\u001B[39m np\u001B[38;5;241m.\u001B[39mlinalg\u001B[38;5;241m.\u001B[39mnorm(vc_2, np\u001B[38;5;241m.\u001B[39minf)\n\u001B[0;32m      3\u001B[0m vc_norm_13 \u001B[38;5;241m=\u001B[39m np\u001B[38;5;241m.\u001B[39mlinalg\u001B[38;5;241m.\u001B[39mnorm(vc_3, np\u001B[38;5;241m.\u001B[39minf)\n",
      "\u001B[1;31mNameError\u001B[0m: name 'vc_1' is not defined"
     ]
    }
   ],
   "source": [
    "vc_norm_11 = np.linalg.norm(vc_1, np.inf)\n",
    "vc_norm_12 = np.linalg.norm(vc_2, np.inf)\n",
    "vc_norm_13 = np.linalg.norm(vc_3, np.inf)\n",
    "vc_norm_14 = np.linalg.norm(vc_4, np.inf)\n",
    "vc_norm_15 = np.linalg.norm(vc_5, np.inf)"
   ],
   "metadata": {
    "collapsed": false,
    "pycharm": {
     "name": "#%%\n"
    }
   }
  },
  {
   "cell_type": "code",
   "execution_count": 11,
   "outputs": [
    {
     "ename": "NameError",
     "evalue": "name 'vc_1' is not defined",
     "output_type": "error",
     "traceback": [
      "\u001B[1;31m---------------------------------------------------------------------------\u001B[0m",
      "\u001B[1;31mNameError\u001B[0m                                 Traceback (most recent call last)",
      "Cell \u001B[1;32mIn[11], line 1\u001B[0m\n\u001B[1;32m----> 1\u001B[0m cos_21 \u001B[38;5;241m=\u001B[39m ((\u001B[43mvc_1\u001B[49m \u001B[38;5;241m.\u001B[39mT\u001B[38;5;241m@\u001B[39m vc_2)\u001B[38;5;241m/\u001B[39m(vc_norm_11 \u001B[38;5;241m*\u001B[39m vc_norm_12))\n\u001B[0;32m      2\u001B[0m cos_22 \u001B[38;5;241m=\u001B[39m ((vc_1 \u001B[38;5;241m.\u001B[39mT\u001B[38;5;241m@\u001B[39m vc_3)\u001B[38;5;241m/\u001B[39m(vc_norm_11 \u001B[38;5;241m*\u001B[39m vc_norm_13))\n\u001B[0;32m      3\u001B[0m cos_23 \u001B[38;5;241m=\u001B[39m ((vc_1 \u001B[38;5;241m.\u001B[39mT\u001B[38;5;241m@\u001B[39m vc_4)\u001B[38;5;241m/\u001B[39m(vc_norm_11 \u001B[38;5;241m*\u001B[39m vc_norm_14))\n",
      "\u001B[1;31mNameError\u001B[0m: name 'vc_1' is not defined"
     ]
    }
   ],
   "source": [
    "cos_21 = ((vc_1 .T@ vc_2)/(vc_norm_11 * vc_norm_12))\n",
    "cos_22 = ((vc_1 .T@ vc_3)/(vc_norm_11 * vc_norm_13))\n",
    "cos_23 = ((vc_1 .T@ vc_4)/(vc_norm_11 * vc_norm_14))\n",
    "cos_24 = ((vc_1 .T@ vc_5)/(vc_norm_11 * vc_norm_15))\n",
    "cos_25 = ((vc_2 .T@ vc_3)/(vc_norm_12 * vc_norm_13))\n",
    "cos_26 = ((vc_2 .T@ vc_4)/(vc_norm_12 * vc_norm_14))\n",
    "cos_27 = ((vc_2 .T@ vc_5)/(vc_norm_12 * vc_norm_15))\n",
    "cos_28 = ((vc_3 .T@ vc_4)/(vc_norm_13 * vc_norm_14))\n",
    "cos_29 = ((vc_3 .T@ vc_5)/(vc_norm_13 * vc_norm_15))\n",
    "cos_30 = ((vc_4 .T@ vc_5)/(vc_norm_14 * vc_norm_15))"
   ],
   "metadata": {
    "collapsed": false,
    "pycharm": {
     "name": "#%%\n"
    }
   }
  },
  {
   "cell_type": "code",
   "execution_count": null,
   "outputs": [],
   "source": [
    "print(np.round(cos_21,3))\n",
    "print(np.round(cos_22,3))\n",
    "print(np.round(cos_23,3))\n",
    "print(np.round(cos_24,3))\n",
    "print(np.round(cos_25,3))\n",
    "print(np.round(cos_26,3))\n",
    "print(np.round(cos_27,3))\n",
    "print(np.round(cos_28,3))\n",
    "print(np.round(cos_29,3))\n",
    "print(np.round(cos_30,3))"
   ],
   "metadata": {
    "collapsed": false,
    "pycharm": {
     "name": "#%%\n"
    }
   }
  }
 ],
 "metadata": {
  "kernelspec": {
   "display_name": "Python 3",
   "language": "python",
   "name": "python3"
  },
  "language_info": {
   "codemirror_mode": {
    "name": "ipython",
    "version": 2
   },
   "file_extension": ".py",
   "mimetype": "text/x-python",
   "name": "python",
   "nbconvert_exporter": "python",
   "pygments_lexer": "ipython2",
   "version": "2.7.6"
  }
 },
 "nbformat": 4,
 "nbformat_minor": 0
}