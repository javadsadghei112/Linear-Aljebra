{
 "cells": [
  {
   "cell_type": "code",
   "execution_count": 1,
   "metadata": {
    "collapsed": true
   },
   "outputs": [
    {
     "ename": "ModuleNotFoundError",
     "evalue": "No module named 'pydoop'",
     "output_type": "error",
     "traceback": [
      "\u001B[1;31m---------------------------------------------------------------------------\u001B[0m",
      "\u001B[1;31mModuleNotFoundError\u001B[0m                       Traceback (most recent call last)",
      "Cell \u001B[1;32mIn[1], line 1\u001B[0m\n\u001B[1;32m----> 1\u001B[0m \u001B[38;5;28;01mimport\u001B[39;00m \u001B[38;5;21;01mpydoop\u001B[39;00m\u001B[38;5;21;01m.\u001B[39;00m\u001B[38;5;21;01mmapreduce\u001B[39;00m\u001B[38;5;21;01m.\u001B[39;00m\u001B[38;5;21;01mapi\u001B[39;00m \u001B[38;5;28;01mas\u001B[39;00m \u001B[38;5;21;01mapi\u001B[39;00m\n\u001B[0;32m      2\u001B[0m \u001B[38;5;28;01mimport\u001B[39;00m \u001B[38;5;21;01mpydoop\u001B[39;00m\u001B[38;5;21;01m.\u001B[39;00m\u001B[38;5;21;01mmapreduce\u001B[39;00m\u001B[38;5;21;01m.\u001B[39;00m\u001B[38;5;21;01mpipes\u001B[39;00m \u001B[38;5;28;01mas\u001B[39;00m \u001B[38;5;21;01mpp\u001B[39;00m\n\u001B[0;32m      3\u001B[0m \u001B[38;5;28;01mimport\u001B[39;00m \u001B[38;5;21;01mnumpy\u001B[39;00m \u001B[38;5;28;01mas\u001B[39;00m \u001B[38;5;21;01mnp\u001B[39;00m\n",
      "\u001B[1;31mModuleNotFoundError\u001B[0m: No module named 'pydoop'"
     ]
    }
   ],
   "source": [
    "import pydoop.mapreduce.api as api\n",
    "import pydoop.mapreduce.pipes as pp\n",
    "import numpy as np\n",
    "\n",
    "class MatrixMapper(api.Mapper):\n",
    "    def map(self, _, line, context):\n",
    "        line = line.strip()\n",
    "        row, col, val = map(int, line.split())\n",
    "        if col == 0:\n",
    "            context.emit(col, (row, val))\n",
    "        else:\n",
    "            context.emit(col, (row, val))\n",
    "\n",
    "class MatrixReducer(api.Reducer):\n",
    "    def reduce(self, key, values, context):\n",
    "        values = list(values)\n",
    "        rows_a = [(i, a) for (i, a) in values if i in matrix_a_rows]\n",
    "        rows_b = [(i, b) for (i, b) in values if i in matrix_b_cols]\n",
    "        if len(rows_a) == 0 or len(rows_b) == 0:\n",
    "            return\n",
    "        else:\n",
    "            result = sum([a * b for (_, a), (_, b) in zip(rows_a, rows_b)])\n",
    "            context.emit((rows_a[0][0], rows_b[0][0]), result)\n",
    "\n",
    "if __name__ == \"__main__\":\n",
    "    with pp.run_context() as ctx:\n",
    "        job_conf = pp.JobConf(ctx)\n",
    "        job_conf.set_map_output_key_class(api.IntWritable)\n",
    "        job_conf.set_map_output_value_class(api.RawKeyValue)\n",
    "        job_conf.set_output_key_class(api.Text)\n",
    "        job_conf.set_output_value_class(api.Text)\n",
    "        job_conf.set_mapper_class(MatrixMapper)\n",
    "        job_conf.set_reducer_class(MatrixReducer)\n",
    "        pp.run_task(job_conf, ctx.stdin, ctx.stdout)\n"
   ]
  }
 ],
 "metadata": {
  "kernelspec": {
   "display_name": "Python 3",
   "language": "python",
   "name": "python3"
  },
  "language_info": {
   "codemirror_mode": {
    "name": "ipython",
    "version": 2
   },
   "file_extension": ".py",
   "mimetype": "text/x-python",
   "name": "python",
   "nbconvert_exporter": "python",
   "pygments_lexer": "ipython2",
   "version": "2.7.6"
  }
 },
 "nbformat": 4,
 "nbformat_minor": 0
}