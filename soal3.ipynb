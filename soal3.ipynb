{
 "cells": [
  {
   "cell_type": "code",
   "execution_count": 1,
   "metadata": {},
   "outputs": [],
   "source": [
    "import numpy as np"
   ]
  },
  {
   "cell_type": "code",
   "execution_count": 2,
   "metadata": {},
   "outputs": [],
   "source": [
    "vc_1 = np.array([12,4,15,33,3,19,13])\n",
    "vc_2 = np.array([14,4,18,37,3,18,15])\n",
    "vc_3 = np.array([12,4,20,32,3,15,13])\n",
    "vc_4 = np.array([8,5,11,14,3,23,17])\n",
    "vc_5 = np.array([3,9,9,25,3,19,10])\n",
    "\n",
    "\n",
    "vc_norm_1 = np.linalg.norm(vc_1, 2)\n",
    "vc_norm_2 = np.linalg.norm(vc_2, 2)\n",
    "vc_norm_3 = np.linalg.norm(vc_3, 2)\n",
    "vc_norm_4 = np.linalg.norm(vc_4, 2)\n",
    "vc_norm_5 = np.linalg.norm(vc_5, 2)\n"
   ]
  },
  {
   "cell_type": "code",
   "execution_count": 3,
   "metadata": {},
   "outputs": [],
   "source": [
    "cos_1 = ((vc_1 .T@ vc_2)/(vc_norm_1 * vc_norm_2))\n",
    "cos_2 = ((vc_1 .T@ vc_3)/(vc_norm_1 * vc_norm_3))\n",
    "cos_3 = ((vc_1 .T@ vc_4)/(vc_norm_1 * vc_norm_4))\n",
    "cos_4 = ((vc_1 .T@ vc_5)/(vc_norm_1 * vc_norm_5))\n",
    "cos_5 = ((vc_2 .T@ vc_3)/(vc_norm_2 * vc_norm_3))\n",
    "cos_6 = ((vc_2 .T@ vc_4)/(vc_norm_2 * vc_norm_4))\n",
    "cos_7 = ((vc_2 .T@ vc_5)/(vc_norm_2 * vc_norm_5))\n",
    "cos_8 = ((vc_3 .T@ vc_4)/(vc_norm_3 * vc_norm_4))\n",
    "cos_9 = ((vc_3 .T@ vc_5)/(vc_norm_3 * vc_norm_5))\n",
    "cos_10 = ((vc_4 .T@ vc_5)/(vc_norm_4 * vc_norm_5))\n"
   ]
  },
  {
   "cell_type": "code",
   "execution_count": 4,
   "metadata": {},
   "outputs": [
    {
     "name": "stdout",
     "output_type": "stream",
     "text": [
      "0.997\n",
      "0.99\n",
      "0.895\n",
      "0.96\n",
      "0.995\n",
      "0.876\n",
      "0.943\n",
      "0.868\n",
      "0.931\n",
      "0.908\n"
     ]
    }
   ],
   "source": [
    "print(np.round(cos_1,3))\n",
    "print(np.round(cos_2,3))\n",
    "print(np.round(cos_3,3))\n",
    "print(np.round(cos_4,3))\n",
    "print(np.round(cos_5,3))\n",
    "print(np.round(cos_6,3))\n",
    "print(np.round(cos_7,3))\n",
    "print(np.round(cos_8,3))\n",
    "print(np.round(cos_9,3))\n",
    "print(np.round(cos_10,3))\n"
   ]
  },
  {
   "cell_type": "code",
   "execution_count": 5,
   "metadata": {},
   "outputs": [],
   "source": [
    "vc_norm_6 = np.linalg.norm(vc_1, 1)\n",
    "vc_norm_7 = np.linalg.norm(vc_2, 1)\n",
    "vc_norm_8 = np.linalg.norm(vc_3, 1)\n",
    "vc_norm_9 = np.linalg.norm(vc_4, 1)\n",
    "vc_norm_10 = np.linalg.norm(vc_5, 1)"
   ]
  },
  {
   "cell_type": "code",
   "execution_count": 6,
   "metadata": {},
   "outputs": [],
   "source": [
    "cos_11 = ((vc_1 .T@ vc_2)/(vc_norm_6 * vc_norm_7))\n",
    "cos_12 = ((vc_1 .T@ vc_3)/(vc_norm_6 * vc_norm_8))\n",
    "cos_13 = ((vc_1 .T@ vc_4)/(vc_norm_6 * vc_norm_9))\n",
    "cos_14 = ((vc_1 .T@ vc_5)/(vc_norm_6 * vc_norm_10))\n",
    "cos_15 = ((vc_2 .T@ vc_3)/(vc_norm_7 * vc_norm_8))\n",
    "cos_16 = ((vc_2 .T@ vc_4)/(vc_norm_7 * vc_norm_9))\n",
    "cos_17 = ((vc_2 .T@ vc_5)/(vc_norm_7 * vc_norm_10))\n",
    "cos_18 = ((vc_3 .T@ vc_4)/(vc_norm_8 * vc_norm_9))\n",
    "cos_19 = ((vc_3 .T@ vc_5)/(vc_norm_8 * vc_norm_10))\n",
    "cos_20 = ((vc_4 .T@ vc_5)/(vc_norm_9 * vc_norm_10))\n"
   ]
  },
  {
   "cell_type": "code",
   "execution_count": 7,
   "metadata": {},
   "outputs": [
    {
     "name": "stdout",
     "output_type": "stream",
     "text": [
      "0.206\n",
      "0.202\n",
      "0.176\n",
      "0.198\n",
      "0.204\n",
      "0.173\n",
      "0.196\n",
      "0.169\n",
      "0.191\n",
      "0.179\n"
     ]
    }
   ],
   "source": [
    "print(np.round(cos_11,3))\n",
    "print(np.round(cos_12,3))\n",
    "print(np.round(cos_13,3))\n",
    "print(np.round(cos_14,3))\n",
    "print(np.round(cos_15,3))\n",
    "print(np.round(cos_16,3))\n",
    "print(np.round(cos_17,3))\n",
    "print(np.round(cos_18,3))\n",
    "print(np.round(cos_19,3))\n",
    "print(np.round(cos_20,3))\n"
   ]
  },
  {
   "cell_type": "code",
   "execution_count": 8,
   "metadata": {},
   "outputs": [],
   "source": [
    "vc_norm_11 = np.linalg.norm(vc_1, np.inf)\n",
    "vc_norm_12 = np.linalg.norm(vc_2, np.inf)\n",
    "vc_norm_13 = np.linalg.norm(vc_3, np.inf)\n",
    "vc_norm_14 = np.linalg.norm(vc_4, np.inf)\n",
    "vc_norm_15 = np.linalg.norm(vc_5, np.inf)\n"
   ]
  },
  {
   "cell_type": "code",
   "execution_count": 9,
   "metadata": {},
   "outputs": [],
   "source": [
    "cos_21 = ((vc_1 .T@ vc_2)/(vc_norm_11 * vc_norm_12))\n",
    "cos_22 = ((vc_1 .T@ vc_3)/(vc_norm_11 * vc_norm_13))\n",
    "cos_23 = ((vc_1 .T@ vc_4)/(vc_norm_11 * vc_norm_14))\n",
    "cos_24 = ((vc_1 .T@ vc_5)/(vc_norm_11 * vc_norm_15))\n",
    "cos_25 = ((vc_2 .T@ vc_3)/(vc_norm_12 * vc_norm_13))\n",
    "cos_26 = ((vc_2 .T@ vc_4)/(vc_norm_12 * vc_norm_14))\n",
    "cos_27 = ((vc_2 .T@ vc_5)/(vc_norm_12 * vc_norm_15))\n",
    "cos_28 = ((vc_3 .T@ vc_4)/(vc_norm_13 * vc_norm_14))\n",
    "cos_29 = ((vc_3 .T@ vc_5)/(vc_norm_13 * vc_norm_15))\n",
    "cos_30 = ((vc_4 .T@ vc_5)/(vc_norm_14 * vc_norm_15))\n",
    "\n"
   ]
  },
  {
   "cell_type": "code",
   "execution_count": 10,
   "metadata": {},
   "outputs": [
    {
     "name": "stdout",
     "output_type": "stream",
     "text": [
      "1.819\n",
      "1.874\n",
      "1.858\n",
      "1.857\n",
      "1.86\n",
      "1.793\n",
      "1.801\n",
      "1.846\n",
      "1.845\n",
      "1.972\n"
     ]
    }
   ],
   "source": [
    "print(np.round(cos_21,3))\n",
    "print(np.round(cos_22,3))\n",
    "print(np.round(cos_23,3))\n",
    "print(np.round(cos_24,3))\n",
    "print(np.round(cos_25,3))\n",
    "print(np.round(cos_26,3))\n",
    "print(np.round(cos_27,3))\n",
    "print(np.round(cos_28,3))\n",
    "print(np.round(cos_29,3))\n",
    "print(np.round(cos_30,3))\n"
   ]
  }
 ],
 "metadata": {
  "kernelspec": {
   "display_name": "Python 3",
   "language": "python",
   "name": "python3"
  },
  "language_info": {
   "codemirror_mode": {
    "name": "ipython",
    "version": 3
   },
   "file_extension": ".py",
   "mimetype": "text/x-python",
   "name": "python",
   "nbconvert_exporter": "python",
   "pygments_lexer": "ipython3",
   "version": "3.10.5"
  },
  "orig_nbformat": 4,
  "vscode": {
   "interpreter": {
    "hash": "26de051ba29f2982a8de78e945f0abaf191376122a1563185a90213a26c5da77"
   }
  }
 },
 "nbformat": 4,
 "nbformat_minor": 2
}
