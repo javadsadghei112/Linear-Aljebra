{
 "cells": [
  {
   "cell_type": "code",
   "execution_count": 22,
   "metadata": {
    "collapsed": true
   },
   "outputs": [
    {
     "name": "stdout",
     "output_type": "stream",
     "text": [
      "اطلاعات تگ در فایل 'tag_info.txt' ذخیره شد.\n"
     ]
    }
   ],
   "source": [
    "from selenium import webdriver\n",
    "from selenium.webdriver.common.by import By\n",
    "from selenium.webdriver.common.keys import Keys\n",
    "from selenium.webdriver.chrome.service import Service\n",
    "from webdriver_manager.chrome import ChromeDriverManager\n",
    "import time\n",
    "\n",
    "\n",
    "driver = webdriver.Chrome(service=Service(ChromeDriverManager().install()))\n",
    "\n",
    "try:\n",
    "\n",
    "    driver.get(\"https://www.varzesh3.com/\")\n",
    "    time.sleep(2)\n",
    "\n",
    "\n",
    "    tag = driver.find_element(By.XPATH,' //*[contains(concat( \" \", @class, \" \" ), concat( \" \", \"text-type\", \" \" )) and (((count(preceding-sibling::*) + 1) = 2) and parent::*)]//a')\n",
    "\n",
    "    time.sleep(2)\n",
    "\n",
    "    tag_info = tag.text\n",
    "    with open(\"tag_info.txt\", \"w\", encoding=\"utf-8\") as file:\n",
    "        file.write(tag_info)\n",
    "\n",
    "    print(\"اطلاعات تگ در فایل 'tag_info.txt' ذخیره شد.\")\n",
    "\n",
    "finally:\n",
    "    # بستن درایور\n",
    "    driver.quit()\n"
   ]
  },
  {
   "cell_type": "code",
   "execution_count": 24,
   "outputs": [
    {
     "name": "stdout",
     "output_type": "stream",
     "text": [
      "اطلاعات صفحه جدید در فایل 'new_page_content.txt' ذخیره شد.\n"
     ]
    }
   ],
   "source": [
    "from selenium import webdriver\n",
    "from selenium.webdriver.common.by import By\n",
    "from selenium.webdriver.common.keys import Keys\n",
    "from selenium.webdriver.chrome.service import Service\n",
    "from webdriver_manager.chrome import ChromeDriverManager\n",
    "import time\n",
    "\n",
    "# ایجاد درایور برای گوگل کروم\n",
    "driver = webdriver.Chrome(service=Service(ChromeDriverManager().install()))\n",
    "\n",
    "try:\n",
    "    # باز کردن صفحه\n",
    "    driver.get(\"https://www.varzesh3.com/\")\n",
    "    time.sleep(3)\n",
    "\n",
    "\n",
    "    tag = driver.find_element(By.XPATH, '//*[contains(concat( \" \", @class, \" \" ), concat( \" \", \"text-type\", \" \" )) and (((count(preceding-sibling::*) + 1) = 2) and parent::*)]//a')\n",
    "    tag.click()\n",
    "    time.sleep(3)  # صبر برای بارگذاری صفحه جدید\n",
    "\n",
    "    # استخراج اطلاعات صفحه جدید و ذخیره در فایل\n",
    "    body = driver.find_element(By.TAG_NAME, 'body')  # پیدا کردن تگ بدنه صفحه جدید\n",
    "    body_text = body.text\n",
    "\n",
    "    with open(\"new_page_content.txt\", \"w\", encoding=\"utf-8\") as file:\n",
    "        file.write(body_text)\n",
    "\n",
    "    print(\"اطلاعات صفحه جدید در فایل 'new_page_content.txt' ذخیره شد.\")\n",
    "\n",
    "finally:\n",
    "    # بستن درایور\n",
    "    driver.quit()\n"
   ],
   "metadata": {
    "collapsed": false,
    "pycharm": {
     "name": "#%%\n"
    }
   }
  }
 ],
 "metadata": {
  "kernelspec": {
   "display_name": "Python 3",
   "language": "python",
   "name": "python3"
  },
  "language_info": {
   "codemirror_mode": {
    "name": "ipython",
    "version": 2
   },
   "file_extension": ".py",
   "mimetype": "text/x-python",
   "name": "python",
   "nbconvert_exporter": "python",
   "pygments_lexer": "ipython2",
   "version": "2.7.6"
  }
 },
 "nbformat": 4,
 "nbformat_minor": 0
}