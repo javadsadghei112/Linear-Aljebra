{
 "cells": [
  {
   "cell_type": "code",
   "execution_count": 3,
   "metadata": {
    "collapsed": true
   },
   "outputs": [],
   "source": [
    "import numpy as np\n",
    "from mrjob.job import MRJob\n",
    "\n",
    "class MatrixMultiplication(MRJob):\n",
    "\n",
    "    def mapper_A(self, key, value):\n",
    "\n",
    "        for k in range(self.B.shape[0]):\n",
    "            yield (key, k), ('A', value)\n",
    "\n",
    "    def mapper_B(self, key, value):\n",
    "        # برای هر خانه در ماتریس B، یک tuple با شماره سطر، شماره ستون و مقدار ایجاد می‌کنیم\n",
    "        for i in range(self.A.shape[1]):\n",
    "            yield (i, key), ('B', value)\n",
    "\n",
    "    def reducer(self, key, values):\n",
    "\n",
    "        values = list(values)\n",
    "        a_values = [val for val in values if val[0] == 'A']\n",
    "        b_values = [val for val in values if val[0] == 'B']\n",
    "        a_dict = {k: v for (k, v) in a_values}\n",
    "        b_dict = {k: v for (k, v) in b_values}\n",
    "        result = sum([a_dict.get((key[0], k), 0) * b_dict.get((k, key[1]), 0) for k in range(self.B.shape[0])])\n",
    "        yield key, result\n",
    "\n",
    "    def steps(self):\n",
    "        return [\n",
    "            self.mr(mapper=self.mapper_A),\n",
    "            self.mr(mapper=self.mapper_B),\n",
    "            self.mr(reducer=self.reducer)\n",
    "        ]\n",
    "\n",
    "\n",
    "\n",
    "\n"
   ]
  }
 ],
 "metadata": {
  "kernelspec": {
   "display_name": "Python 3",
   "language": "python",
   "name": "python3"
  },
  "language_info": {
   "codemirror_mode": {
    "name": "ipython",
    "version": 2
   },
   "file_extension": ".py",
   "mimetype": "text/x-python",
   "name": "python",
   "nbconvert_exporter": "python",
   "pygments_lexer": "ipython2",
   "version": "2.7.6"
  }
 },
 "nbformat": 4,
 "nbformat_minor": 0
}